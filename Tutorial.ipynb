{
 "cells": [
  {
   "cell_type": "markdown",
   "metadata": {},
   "source": [
    "# Welcome to the tutorial!\n",
    "In this tutorial you will learn how to generate simulations of collisions, as done in the particle detectors such as the LHC.\n",
    "\n"
   ]
  },
  {
   "cell_type": "code",
   "execution_count": null,
   "metadata": {},
   "outputs": [],
   "source": [
    "import collide"
   ]
  },
  {
   "cell_type": "markdown",
   "metadata": {},
   "source": [
    "You can generate an event using a simple interface. Just call ``collide.generate_event()``. You can optionally pass the type of process that you would like to generate, the random seed and now many events you would like to generate."
   ]
  },
  {
   "cell_type": "code",
   "execution_count": null,
   "metadata": {},
   "outputs": [],
   "source": [
    "help(collide.generate_event)"
   ]
  },
  {
   "cell_type": "code",
   "execution_count": null,
   "metadata": {},
   "outputs": [],
   "source": [
    "collide.generate_event('Top')"
   ]
  },
  {
   "cell_type": "markdown",
   "metadata": {},
   "source": [
    "You can check the available processes using the ``collide.available_processes()`` function."
   ]
  },
  {
   "cell_type": "code",
   "execution_count": null,
   "metadata": {},
   "outputs": [],
   "source": [
    "dark_matter_event = collide.generate_event('DarkMatter', seed=3423)[0]"
   ]
  },
  {
   "cell_type": "code",
   "execution_count": null,
   "metadata": {},
   "outputs": [],
   "source": [
    "import matplotlib.pyplot as plt\n",
    "def normalize_var_for_plot(variable):\n",
    "    normalized = variable/(variable.median())\n",
    "    normalized.loc[normalized>1.] = 1.\n",
    "    return normalized"
   ]
  },
  {
   "cell_type": "code",
   "execution_count": null,
   "metadata": {},
   "outputs": [],
   "source": [
    "import seaborn as sns\n",
    "\n",
    "palette = sns.color_palette(\"flare_r\", as_cmap=True)\n",
    "\n",
    "def plot_line(df, ax):\n",
    "    ax.plot([df['Vx'], df['Vx_decay']],\n",
    "            [df['Vy'], df['Vy_decay']], \n",
    "             color=df['color'], linewidth=df['width'])\n",
    "    \n",
    "def plot_energy_weight(trajectories = dark_matter_event.trajectories):\n",
    "    color_scale = normalize_var_for_plot(trajectories.E)\n",
    "    \n",
    "    trajectories['color'] = color_scale.apply(lambda x: palette.colors[int(255*x)])\n",
    "    trajectories['width'] = 1 + 1.5*color_scale\n",
    "    \n",
    "    fig, ax = plt.subplots(figsize=(7, 7))\n",
    "    \n",
    "    trajectories.T.apply(lambda x: plot_line(x, ax))\n",
    "    \n",
    "    ax.axis('off')\n",
    "    ax.axis('tight')\n",
    "    ax.axis('image')\n",
    "    return ax"
   ]
  },
  {
   "cell_type": "code",
   "execution_count": null,
   "metadata": {},
   "outputs": [],
   "source": [
    "ax = plot_energy_weight()"
   ]
  },
  {
   "cell_type": "code",
   "execution_count": null,
   "metadata": {},
   "outputs": [],
   "source": [
    "ax.set_ylim(-1e-4, 1e-4)\n",
    "ax.set_xlim(-1e-4, 1e-4)\n",
    "ax.get_figure()"
   ]
  }
 ],
 "metadata": {
  "kernelspec": {
   "display_name": "Python 3",
   "language": "python",
   "name": "python3"
  },
  "language_info": {
   "codemirror_mode": {
    "name": "ipython",
    "version": 3
   },
   "file_extension": ".py",
   "mimetype": "text/x-python",
   "name": "python",
   "nbconvert_exporter": "python",
   "pygments_lexer": "ipython3",
   "version": "3.8.5"
  }
 },
 "nbformat": 4,
 "nbformat_minor": 4
}
